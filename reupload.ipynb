

https://www.kaggle.com/berkeleyearth/climate-change-earth-surface-temperature-data?select=GlobalLandTemperaturesByCountry.csv

from google.colab import drive
drive.mount('/content/drive/')

%cd '/content/drive/My Drive/Colab Notebooks/db'

!ls

import pandas as pd
import numpy as np


df_temp = pd.read_csv('GlobalLandTemperaturesByCountry.csv')
df_temp

## para medir la BDD
df_temp.shape

df_temp.info

df_temp.info()

df_temp['Country'].unique()

## Convirtiendo nuestra variable 'dt' a otra de tipo Tiempo
df_temp['year'] = pd.to_datetime(df_temp['dt'])
df_temp['year']

## Creando un filtro para dejar solo datos mayores a 1970:
idx = df_temp['year'] > pd.to_datetime('1970-01-01')
df_temp = df_temp[idx]
df_temp

## para agrupar por fecha y pais y conseguir sus promedios:
df_t_avg =  df_temp.groupby(['Country',
                 pd.Grouper(key='year', freq='1Y')]).agg({'AverageTemperature':[np.mean, np.median]})
df_t_avg                 

## Para elegir un país en particular:
df_t_avg.xs('Mexico')['AverageTemperature']

df_t_avg.xs('Mexico')['AverageTemperature'].plot()

df_t_med = df_t_avg['AverageTemperature']['median'].reset_index()
df_t_med

## para extraer el año de una fecha o data:
df_t_med['date'] = df_t_med['year'].dt.year
df_t_med['date']

## renombrando alguna de las columnas (cambiando 'median' por 'temperature'):
# para evitar siempre escribir 'dataframe=dataframe' usamos inplace=True
df_t_med.rename(columns={'median':'temperature'}, inplace=True)
df_t_med

## creando un boxplot con una tabla pivot:
df_t_pivot = df_t_med.pivot_table(values='temperature', index='date', columns='Country')
df_t_pivot


## realizando boxplot
df_t_pivot.boxplot()

## para seleccionar filas aleatorias:
df_t_pivot.sample(2)

df_t_pivot.T.sample(2)

df_t_pivot.T.sample(2).T.head(4)

df_t_pivot.T.sample(2).T.boxplot()

df_t_pivot.T.sample(10).T.boxplot()

df_t_pivot.T.sample(10).T.boxplot(rot=45)

# para modificar el tamaño del grafico:
df_t_pivot.T.sample(10).T.boxplot(rot=45, figsize=(20,15))

df_t_pivot.T.sample(2).T.head(4).boxplot()

df_t_pivot.T.sample(10).T.head(4).boxplot()

# para corregir numeros apiñados:
df_t_pivot.T.sample(10).T.head(4).boxplot(rot=45)

**CLASE 28 - REPASO**

df_agri = pd.read_csv('API_AG.LND.AGRI.K2_DS2_en_csv_v2_716226.csv', header = 2)
df_fore = pd.read_csv('API_AG.LND.FRST.K2_DS2_en_csv_v2_716262.csv', header = 2)
df_elec = pd.read_csv('API_EG.USE.ELEC.KH.PC_DS2_en_csv_v2_715482.csv', header = 2)
df_co2e = pd.read_csv('API_EN.ATM.CO2E.KT_DS2_en_csv_v2_713263.csv', header = 2)
df_popu = pd.read_csv('API_SP.POP.TOTL_DS2_en_csv_v2_713131.csv', header = 2)

df_popu

## dandole formato a nuevos df para encajar con dfs anteriores (mapeando rango creado)
# seleccionando las columnas deseadas
range(1971, 2015)
map(str, range(1971, 2015))
cols = ['Country Name', 'Country Code'] + list(map(str, range(1971, 2015)))
cols[:5]

list(map(str, range(1971, 2015)))

df_agri.loc[:,cols]

## para volver esas columnas como parte de un DFrame usando .melt (las columnas de años se convierten a filas)
df_agri.loc[:,cols].melt(id_vars=['Country Name','Country Code'])

df_agri.loc[:,cols].melt(id_vars=['Country Name','Country Code']).rename(
    columns={'variable':'date',
             'Country Name':'Country',
             'Country Code':'name',
             'value':'agriculture'})

## replicando lo anterior con los demás dataframes aplicando funcion dado que
# dframes de worldbank tienen mismo formato
def fun_formato(df, col = 'agriculture'):
  return df.loc[:,cols].melt(id_vars=['Country Name','Country Code']).rename(
    columns={'variable':'date',
             'Country Name':'Country',
             'Country Code':'name',
             'value':col})

df_agri = fun_formato(df_agri, col='agriculture')
df_fore = fun_formato(df_fore, col='forest')
df_elec = fun_formato(df_elec, col='electricprod')
df_co2e = fun_formato(df_co2e, col='co2')
df_popu = fun_formato(df_popu, col='population')
df_popu

df_t_med

## Juntando dos dataframes de similar composición:
df_merge = pd.merge(df_t_med[['Country','temperature','date']],
                    df_popu, on = ['Country','date'], how = 'inner')

df_popu.info()

## cambiando 'date' a int:
df_popu['date'] = df_popu['date'].astype(float)
df_fore['date'] = df_fore['date'].astype(float)
df_agri['date'] = df_agri['date'].astype(float)
df_elec['date'] = df_elec['date'].astype(float)
df_co2e['date'] = df_co2e['date'].astype(float)
df_popu.info()

df_merge = pd.merge(df_t_med[['Country','temperature','date']],
                    df_popu, on = ['Country','date'], how = 'inner')

df_merge

## repitiendo lo mismo con los otros dframes:
df_merge = pd.merge(df_merge,
                    df_co2e,
                    on = ['Country','name','date'],
                    how = 'inner')

df_merge = pd.merge(df_merge,
                    df_elec,
                    on = ['Country','name','date'],
                    how = 'inner')

df_merge = pd.merge(df_merge,
                    df_agri,
                    on = ['Country','name','date'],
                    how = 'inner')

df_merge = pd.merge(df_merge,
                    df_fore,
                    on = ['Country','name','date'],
                    how = 'inner')

df_merge

df_merge.dropna()

df_climate = df_merge.dropna()

## Países que producen más Co2?
df_climate.groupby('Country')['co2'].median().sort_values(ascending=False)

## cambiando notación cientifica
pd.set_option('display.float_format', '{:,.1f}'.format)

df_climate.groupby('Country')['co2'].median().sort_values(ascending=False)

## haciendo un scatterplot:
first_10 = df_climate.groupby('Country')['co2'].median().sort_values(ascending=False).head(10).index
first_10

df_max_co2 = df_climate[df_climate['Country'].isin(['United States', 'China', 'Japan', 'India', 'Germany',
       'United Kingdom', 'Canada', 'Italy', 'Mexico'])]
      
df_max_co2

## construyendo Scatterplot
df_max_co2.set_index('Country').plot.scatter(
    x='population',
    y='co2',
    c='date',
    colormap='viridis'
)

## hallando la correlacion
df_climate.corr()

## importando librerias de graficas:
import seaborn as sns

sns.heatmap(df_climate.corr())

sns.heatmap(df_climate.corr(), annot=True)

## eliminando variable país y analizando todos los datos como uno solo (por la variedad de paises la corr entre temperatura y estos era dificil de medir por cantidad de datos variados)
df_med = df_climate.groupby('date').median()
df_med

sns.heatmap(df_med.reset_index().corr(),annot=True)

## analizando lo mismo pero con matices de descarga:
from pandas.plotting import scatter_matrix

scatter_matrix(df_med.reset_index(),diagonal='kde')

scatter_matrix(df_med.reset_index(),diagonal='kde', figsize=(7,7))

## Graficos de coordenadas paralelas:
from pandas.plotting import parallel_coordinates

df_samerica = df_climate[
df_climate['Country'].isin(['Colombia','Argentina','Bolivia','Mexico','Peru','Chile'])                         
][['Country','temperature','co2','agriculture','forest']]

parallel_coordinates(df_samerica, 'Country')

parallel_coordinates(df_samerica, 'Country', colormap='jet')

